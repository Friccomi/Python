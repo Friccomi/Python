{
  "nbformat": 4,
  "nbformat_minor": 0,
  "metadata": {
    "colab": {
      "name": "Clase_1_Python_Problemas_Start.ipynb",
      "provenance": [],
      "collapsed_sections": [],
      "toc_visible": true
    },
    "language_info": {
      "codemirror_mode": {
        "name": "ipython",
        "version": 3
      },
      "file_extension": ".py",
      "mimetype": "text/x-python",
      "name": "python",
      "nbconvert_exporter": "python",
      "pygments_lexer": "ipython3",
      "version": "3.6.8"
    },
    "kernelspec": {
      "display_name": "Python 3",
      "language": "python",
      "name": "python3"
    }
  },
  "cells": [
    {
      "cell_type": "markdown",
      "metadata": {
        "id": "2ChpNg6UAv-n"
      },
      "source": [
        "# Intro a Python"
      ]
    },
    {
      "cell_type": "markdown",
      "metadata": {
        "id": "yd83uq79Gk6T"
      },
      "source": [
        "### Operaciones de filtrado\n",
        "\n",
        "1) Escriba una funcion que, dada una lista $lst$ y un numero  $i$, devuelva los elementos de la lista $lst$ que cumplan con la condicion de ser  numericos y divisibles por el numero $i$.\n",
        "\n",
        "Utilice filter() para seleccionar los datos numericos\n",
        "\n",
        "2) Escriba una funcion que reciba una lista y que dado un tipo de dato diferente a un string contenido en la lista, lance un error. \n",
        "\n"
      ]
    },
    {
      "cell_type": "code",
      "metadata": {
        "id": "-eKLh4rwGkIF",
        "colab": {
          "base_uri": "https://localhost:8080/"
        },
        "outputId": "27fe4fa2-387c-41a4-850b-7dfaf28dab6a"
      },
      "source": [
        "\n",
        "lst = ['a', 8, 'd', 4, 9, True, 'o']\n",
        "i=2\n",
        "def esNumero(j):\n",
        "    if isinstance(j,int):\n",
        "       if j%i==0 :\n",
        "         return(True)\n",
        "\n",
        "resultado = filter(esNumero,lst)\n",
        "for x in resultado:\n",
        "  print(x)"
      ],
      "execution_count": 51,
      "outputs": [
        {
          "output_type": "stream",
          "text": [
            "8\n",
            "4\n"
          ],
          "name": "stdout"
        }
      ]
    },
    {
      "cell_type": "code",
      "metadata": {
        "colab": {
          "base_uri": "https://localhost:8080/"
        },
        "id": "YNuVUtpVjSCW",
        "outputId": "316119ce-8ddd-4488-eed8-42ff8fac7e7e"
      },
      "source": [
        "lst = ['a', 1, 6, 4, 9, True, 'o']\n",
        "def f(j):\n",
        "  if isinstance(j,str):\n",
        "    return True\n",
        "  else:\n",
        "    return False\n",
        " \n",
        "\n",
        "for i in lst:\n",
        "  estado=f(i)\n",
        "  if not estado:\n",
        "        print(f'error en la lista tiene elementos no string  {i}')\n",
        "        break\n",
        "     \n"
      ],
      "execution_count": 52,
      "outputs": [
        {
          "output_type": "stream",
          "text": [
            "error en la lista tiene elementos no string  1\n"
          ],
          "name": "stdout"
        }
      ]
    },
    {
      "cell_type": "markdown",
      "metadata": {
        "id": "rFtkYYoQAv-o"
      },
      "source": [
        "### Factoriales\n",
        "\n",
        "El factorial de un número $n$ se define como $ n! = n × (n − 1) × · · · × 2 × 1. $ \n",
        "\n",
        "1) Escriba una función $factorial(n)$ que para cualquier número natural $n$ devuelve $n!$"
      ]
    },
    {
      "cell_type": "code",
      "metadata": {
        "id": "YMCUHDrXAv-q",
        "colab": {
          "base_uri": "https://localhost:8080/"
        },
        "outputId": "be4a59ec-fc4a-496c-ca9d-16a7dc2ac305"
      },
      "source": [
        "def factorial(n):\n",
        "  factor=n\n",
        "  nn = range(1,n)\n",
        "  for i in nn:\n",
        "     factor=factor * (n-i)\n",
        "     #print(factor)\n",
        "  return factor\n",
        "\n",
        "print(factorial(5))\n",
        "    "
      ],
      "execution_count": 53,
      "outputs": [
        {
          "output_type": "stream",
          "text": [
            "120\n"
          ],
          "name": "stdout"
        }
      ]
    },
    {
      "cell_type": "markdown",
      "metadata": {
        "id": "aa65Lg5-Av-u"
      },
      "source": [
        "2) Reuse la función anterior en una nueva función que ahora devuelva $n! −k$ para cualquier entero $n$ con $k$ parametrizable y fijado por defecto en $1$."
      ]
    },
    {
      "cell_type": "code",
      "metadata": {
        "id": "KfQdUNlhAv-v",
        "colab": {
          "base_uri": "https://localhost:8080/"
        },
        "outputId": "ddd49aaf-4be3-4a8f-95f7-d496ef34a511"
      },
      "source": [
        "def factorial(n,k=1):\n",
        "  factor=n\n",
        "  nn = range(1,n)\n",
        "  for i in nn:\n",
        "     factor=factor * (n-i)\n",
        "     #print(factor)\n",
        "  return factor - k\n",
        "\n",
        "print(factorial(5,3))"
      ],
      "execution_count": 55,
      "outputs": [
        {
          "output_type": "stream",
          "text": [
            "117\n"
          ],
          "name": "stdout"
        }
      ]
    },
    {
      "cell_type": "code",
      "metadata": {
        "id": "Ir4wKqpueiHc"
      },
      "source": [
        ""
      ],
      "execution_count": null,
      "outputs": []
    },
    {
      "cell_type": "markdown",
      "metadata": {
        "id": "AtE8jPCjAv-4"
      },
      "source": [
        "Genere dos vectores (listas o array): \n",
        "    \n",
        "1er vector llamado $x$ con números enteros,\n",
        "    \n",
        "2do vector llamado $y$ que contiene $y = x + ε$ donde $ε$ proviene de una distribución uniforme en el intervalo [0, 1]. \n",
        "    \n",
        "Hint: use random.uniform"
      ]
    },
    {
      "cell_type": "code",
      "metadata": {
        "id": "8FG33JcHAv-5",
        "colab": {
          "base_uri": "https://localhost:8080/"
        },
        "outputId": "2dd49fed-0fc6-40ff-e82d-ddf4fb3f7a41"
      },
      "source": [
        "import random\n",
        "x =range(1,15)\n",
        "y = [i- random.uniform(0, 1) for i in x]\n",
        "\n",
        "print(y) "
      ],
      "execution_count": 71,
      "outputs": [
        {
          "output_type": "stream",
          "text": [
            "[0.2932149776331584, 1.4758326252333878, 2.9159322153635454, 3.1053159147602916, 4.487210746197258, 5.331417191274108, 6.998536740973749, 7.261817071132715, 8.236037881428269, 9.949903295120627, 10.591910560678489, 11.158569962367777, 12.459041843691129, 13.164549100709573]\n"
          ],
          "name": "stdout"
        }
      ]
    },
    {
      "cell_type": "markdown",
      "metadata": {
        "id": "N2flP0J0Av_A"
      },
      "source": [
        "### Parseo de cadenas"
      ]
    },
    {
      "cell_type": "markdown",
      "metadata": {
        "id": "E_6eCzpSAv_B"
      },
      "source": [
        "1) Obtenga todos los caracteres en posición par de la cadena **H1e2l3l4o5w6o7r8l9d**"
      ]
    },
    {
      "cell_type": "code",
      "metadata": {
        "colab": {
          "base_uri": "https://localhost:8080/"
        },
        "id": "hq4wLR9pK-2n",
        "outputId": "e14abc4f-f253-429c-91a2-2d6a4258ec6f"
      },
      "source": [
        "cadena = \"H1e2l3l4o5w6o7r8l9d\"\n",
        "print (cadena[1:2])"
      ],
      "execution_count": 99,
      "outputs": [
        {
          "output_type": "stream",
          "text": [
            "1\n"
          ],
          "name": "stdout"
        }
      ]
    },
    {
      "cell_type": "code",
      "metadata": {
        "id": "qcX6AjEJY8Ij",
        "colab": {
          "base_uri": "https://localhost:8080/"
        },
        "outputId": "b26e7c1e-e791-4aff-b7f9-1bd7925e8a80"
      },
      "source": [
        "string =\"H1e2l3l4o5w6o7r8l9d\"\n",
        "resultado=''\n",
        "i=0\n",
        "while i<=len(string):\n",
        "  i += 1\n",
        "  if i%2==0:\n",
        "     resultado =resultado + string[i-1:i]\n",
        "print(resultado)     \n",
        "\n",
        "\n"
      ],
      "execution_count": 108,
      "outputs": [
        {
          "output_type": "stream",
          "text": [
            "123456789\n"
          ],
          "name": "stdout"
        }
      ]
    },
    {
      "cell_type": "markdown",
      "metadata": {
        "id": "SjWbHzh1Av_G"
      },
      "source": [
        "2) Usando (varios) list comprehensions elimine todos los valores numéricos de la\n",
        "cadena y devuelve luego una nueva cadena idéntica a la del inciso anterior."
      ]
    },
    {
      "cell_type": "code",
      "metadata": {
        "colab": {
          "base_uri": "https://localhost:8080/"
        },
        "id": "ELxvU22qWXNr",
        "outputId": "893de9da-dcdd-40cd-9735-626991c1f3aa"
      },
      "source": [
        "string =\"H1e2l3l4o5w6o7r8l9d\"\n",
        "numero = range(1,9)\n",
        "lista =  [ch for ch in string if not ch.isdigit()] \n",
        "StrA = \"\".join(lista)\n",
        "print(StrA)\n",
        "i=1\n",
        "nuevaLista =[val for pair in zip(lista, numero) for val in pair]\n",
        "stringOriginal = \"\".join(map(str, nuevaLista))\n",
        "print(stringOriginal)"
      ],
      "execution_count": 146,
      "outputs": [
        {
          "output_type": "stream",
          "text": [
            "Helloworld\n",
            "H1e2l3l4o5w6o7r8\n"
          ],
          "name": "stdout"
        }
      ]
    },
    {
      "cell_type": "markdown",
      "metadata": {
        "id": "fLySloUvAv_H"
      },
      "source": [
        "### Subconjuntos"
      ]
    },
    {
      "cell_type": "markdown",
      "metadata": {
        "id": "WJRgJH47Av_J"
      },
      "source": [
        "1) Escriba una función que recibe como argumentos dos secuencias (listas, tuplas o cadenas) y devuelve True (False) en caso que la primer secuencia este (no este) contenida en la segunda. No use conjuntos para esto."
      ]
    },
    {
      "cell_type": "code",
      "metadata": {
        "id": "vYLsrohaAv_L",
        "colab": {
          "base_uri": "https://localhost:8080/"
        },
        "outputId": "73fd79b4-5be2-47bc-f1e4-a668c4eb0073"
      },
      "source": [
        "l1=[1,3,6,8,'d','e','rt','a','x',True, False]\n",
        "l2=[4,7,8,1,3,6,8,'d','e','rt','a','x',True, False,'y','d',3]\n",
        "all(x in l2 for x in l1)"
      ],
      "execution_count": 152,
      "outputs": [
        {
          "output_type": "execute_result",
          "data": {
            "text/plain": [
              "True"
            ]
          },
          "metadata": {
            "tags": []
          },
          "execution_count": 152
        }
      ]
    },
    {
      "cell_type": "markdown",
      "metadata": {
        "id": "vSeSEPa1Av_O"
      },
      "source": [
        "2) Repita el ejercicio anterior pero usando conjuntos."
      ]
    },
    {
      "cell_type": "code",
      "metadata": {
        "id": "ldGt3XDGAv_P",
        "colab": {
          "base_uri": "https://localhost:8080/"
        },
        "outputId": "a471e7b4-6c3d-4946-ecda-d1060f03b67b"
      },
      "source": [
        "l1={1,3,6,8,'d','e','rt','a','x',True, False}\n",
        "l2={4,7,8,1,3,6,8,'d','e','rt','a','x',True, False,'y','d',3}\n",
        "print(l1.issubset(l2))\n"
      ],
      "execution_count": 154,
      "outputs": [
        {
          "output_type": "stream",
          "text": [
            "True\n"
          ],
          "name": "stdout"
        }
      ]
    },
    {
      "cell_type": "markdown",
      "metadata": {
        "id": "V5G2TxDXAv_S"
      },
      "source": [
        "### Tipos de Datos y Diccionarios"
      ]
    },
    {
      "cell_type": "markdown",
      "metadata": {
        "id": "QE9jH5tZAv_T"
      },
      "source": [
        "1) Itere sobre el siguiente diccionario **d** en la celda, para construir un nuevo diccionario que únicamente contenga los valores numéricos (enteros o flotantes) y otro diccionario que tenga los valores string. \n",
        "\n",
        "\n",
        "Hint: use la función isinstance"
      ]
    },
    {
      "cell_type": "code",
      "metadata": {
        "id": "Qn-sPU-YAv_U",
        "colab": {
          "base_uri": "https://localhost:8080/"
        },
        "outputId": "081f2c4d-d94f-4ab0-8576-cce98949c5ae"
      },
      "source": [
        "diccionario = {'a': 2, 'b': 3.14, 'c': 'henry', 'd': 'iv', 'e': 5, 'f': None, 'g': []}\n",
        "d1={}\n",
        "d2={}\n",
        "i=0\n",
        "j=0\n",
        "for d in diccionario.values():\n",
        "   if (isinstance(d,int) or isinstance(d,float) ):\n",
        "       d1[i]=d\n",
        "       i +=1\n",
        "   elif (isinstance(d,str)) :\n",
        "       d2[j]=d\n",
        "       j +=1\n",
        "print(d1)\n",
        "print(d2)"
      ],
      "execution_count": 179,
      "outputs": [
        {
          "output_type": "stream",
          "text": [
            "{0: 2, 1: 3.14, 2: 5}\n",
            "{0: 'henry', 1: 'iv'}\n"
          ],
          "name": "stdout"
        }
      ]
    },
    {
      "cell_type": "markdown",
      "metadata": {
        "id": "MgRosYIaAv_X"
      },
      "source": [
        "2) Usando list comprehensions devuelva, respectivamente, la suma de los valores numéricos y la concatenación de los cadenas de valores (utilizando para este segundo caso “_” como separador entre palabras)."
      ]
    },
    {
      "cell_type": "code",
      "metadata": {
        "id": "69veyawpAv_Y",
        "colab": {
          "base_uri": "https://localhost:8080/"
        },
        "outputId": "a65b42cf-4330-4023-8bbe-e6e3d1c651e2"
      },
      "source": [
        "diccionario = {'a': 2, 'b': 3.14, 'c': 'henry', 'd': 'iv', 'e': 5, 'f': None, 'g': []}\n",
        "\n",
        "s=sum([v for v in diccionario.values() if (isinstance(v,int) or isinstance(v,float)) ])\n",
        "\n",
        "j='_'.join(v for v in diccionario.values() if  (isinstance(v,str) ) )\n",
        "print(s)\n",
        "print(j)"
      ],
      "execution_count": 211,
      "outputs": [
        {
          "output_type": "stream",
          "text": [
            "10.14\n",
            "henry_iv\n"
          ],
          "name": "stdout"
        }
      ]
    },
    {
      "cell_type": "markdown",
      "metadata": {
        "id": "nQA0Bm1-Av_b"
      },
      "source": [
        "3) Dada la lista frutas, obtenga la cantidad de caracteres de cada palabra, y asigne para cada valor de fruta, su correspondiente valor de cantidad de caracteres en un diccionario.\n",
        "\n",
        "Ej resultado { 'a':1, 'ab':2, 'abcd':4}"
      ]
    },
    {
      "cell_type": "code",
      "metadata": {
        "id": "i-HNY84fAv_c",
        "colab": {
          "base_uri": "https://localhost:8080/"
        },
        "outputId": "e97e35ee-dfe5-4b83-a15e-014573c12a3f"
      },
      "source": [
        "frutas =['banana','manzana','pera','anana']\n",
        "d={k: len(k) for k in frutas }\n",
        "d"
      ],
      "execution_count": 187,
      "outputs": [
        {
          "output_type": "execute_result",
          "data": {
            "text/plain": [
              "{'anana': 5, 'banana': 6, 'manzana': 7, 'pera': 4}"
            ]
          },
          "metadata": {
            "tags": []
          },
          "execution_count": 187
        }
      ]
    },
    {
      "cell_type": "markdown",
      "metadata": {
        "id": "Ci61Z1ECAv_f"
      },
      "source": [
        "4) Genere una lista de frutas, cuya cantidad de caracteres sea par"
      ]
    },
    {
      "cell_type": "code",
      "metadata": {
        "id": "9XmCaqalAv_g",
        "colab": {
          "base_uri": "https://localhost:8080/"
        },
        "outputId": "2b04fb6f-5417-445a-864a-dd0025e43dcf"
      },
      "source": [
        "frutas =['banana','manzana','pera','anana']\n",
        "d={k: len(k) for k in frutas  if len(k)%2==0}\n",
        "d"
      ],
      "execution_count": 188,
      "outputs": [
        {
          "output_type": "execute_result",
          "data": {
            "text/plain": [
              "{'banana': 6, 'pera': 4}"
            ]
          },
          "metadata": {
            "tags": []
          },
          "execution_count": 188
        }
      ]
    },
    {
      "cell_type": "markdown",
      "metadata": {
        "id": "y10EGoo-Av_i"
      },
      "source": [
        "### Fechas con while loops"
      ]
    },
    {
      "cell_type": "markdown",
      "metadata": {
        "id": "olOvxRqUAv_j"
      },
      "source": [
        "1) Utilizando las funciones datetime y timedelta del módulo datetime imprima, en un while loop, todas las fechas entre el 18 y 25 de Mayo de este año. Ademas guarde en una lista todas las fechas cuyo día del mes sea divisible por 3."
      ]
    },
    {
      "cell_type": "code",
      "metadata": {
        "id": "WJ_HKqN9Av_k",
        "colab": {
          "base_uri": "https://localhost:8080/"
        },
        "outputId": "84b60dc7-96a7-4b17-8dce-fe3acc2d69a9"
      },
      "source": [
        "from datetime import datetime\n",
        "from datetime import timedelta\n",
        "f1= datetime(2021, 5, 18)\n",
        "f2= datetime(2021, 5, 25)\n",
        "delta = (f2-f1).days\n",
        "lista=[]\n",
        "i=0\n",
        "while i<delta:\n",
        "   fecha= f1 + timedelta(days=i)\n",
        "   dia=fecha.day\n",
        "   print(fecha)\n",
        "   if dia%3==0 :\n",
        "      lista.append(fecha)\n",
        "   i +=1\n",
        "lista   "
      ],
      "execution_count": 5,
      "outputs": [
        {
          "output_type": "stream",
          "text": [
            "2021-05-18 00:00:00\n",
            "2021-05-19 00:00:00\n",
            "2021-05-20 00:00:00\n",
            "2021-05-21 00:00:00\n",
            "2021-05-22 00:00:00\n",
            "2021-05-23 00:00:00\n",
            "2021-05-24 00:00:00\n"
          ],
          "name": "stdout"
        },
        {
          "output_type": "execute_result",
          "data": {
            "text/plain": [
              "[datetime.datetime(2021, 5, 18, 0, 0),\n",
              " datetime.datetime(2021, 5, 21, 0, 0),\n",
              " datetime.datetime(2021, 5, 24, 0, 0)]"
            ]
          },
          "metadata": {
            "tags": []
          },
          "execution_count": 5
        }
      ]
    },
    {
      "cell_type": "markdown",
      "metadata": {
        "id": "UlhhYMO3Av_n"
      },
      "source": [
        "2) Obtenga el cuarto elemento de aquellas fechas con días divisibles por 3. En caso que este elemento no exista, salve la excepción e imprima un mensaje notando la cantidad de elementos en la lista."
      ]
    },
    {
      "cell_type": "code",
      "metadata": {
        "id": "Ql0dqtwbtz6d",
        "colab": {
          "base_uri": "https://localhost:8080/"
        },
        "outputId": "1709a5e7-9415-4446-9f51-0baa3d4d0793"
      },
      "source": [
        "from datetime import datetime\n",
        "from datetime import timedelta\n",
        "f1= datetime(2021, 5, 14)\n",
        "f2= datetime(2021, 5, 25)\n",
        "delta = (f2-f1).days\n",
        "lista=[]\n",
        "i=0\n",
        "ban=0\n",
        "while i<delta:\n",
        "   fecha= f1 + timedelta(days=i)\n",
        "   dia=fecha.day\n",
        "   if i==4 and dia%3==0 :\n",
        "      break\n",
        "   elif i==4:\n",
        "     print(fecha)\n",
        "     try:\n",
        "      raise ValueError('El cuarto elemento no es divisible por 3')\n",
        "     except ValueError as e:\n",
        "        print(e) \n",
        "        ban=1\n",
        "        break\n",
        "   i +=1\n",
        "if ban==0 and i<3:\n",
        "  print('No hay cuarto elemento')\n"
      ],
      "execution_count": 20,
      "outputs": [
        {
          "output_type": "stream",
          "text": [
            "2021-05-18 00:00:00\n"
          ],
          "name": "stdout"
        }
      ]
    },
    {
      "cell_type": "code",
      "metadata": {
        "id": "cI1ZtZA1Av_o"
      },
      "source": [
        ""
      ],
      "execution_count": null,
      "outputs": []
    },
    {
      "cell_type": "markdown",
      "metadata": {
        "id": "l9a1keIXaOy3"
      },
      "source": [
        "### Trabajando con archivos"
      ]
    },
    {
      "cell_type": "code",
      "metadata": {
        "id": "J8aIuPvvAv_s",
        "colab": {
          "resources": {
            "http://localhost:8080/nbextensions/google.colab/files.js": {
              "data": "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",
              "ok": true,
              "headers": [
                [
                  "content-type",
                  "application/javascript"
                ]
              ],
              "status": 200,
              "status_text": "OK"
            }
          },
          "base_uri": "https://localhost:8080/",
          "height": 72
        },
        "outputId": "83bc92d6-2516-47de-cdf6-82578d26d277"
      },
      "source": [
        "from google.colab import files\n",
        "uploaded = files.upload()"
      ],
      "execution_count": 61,
      "outputs": [
        {
          "output_type": "display_data",
          "data": {
            "text/html": [
              "\n",
              "     <input type=\"file\" id=\"files-8b5e9e8e-14cc-4843-9e0b-edd2a1efb17b\" name=\"files[]\" multiple disabled\n",
              "        style=\"border:none\" />\n",
              "     <output id=\"result-8b5e9e8e-14cc-4843-9e0b-edd2a1efb17b\">\n",
              "      Upload widget is only available when the cell has been executed in the\n",
              "      current browser session. Please rerun this cell to enable.\n",
              "      </output>\n",
              "      <script src=\"/nbextensions/google.colab/files.js\"></script> "
            ],
            "text/plain": [
              "<IPython.core.display.HTML object>"
            ]
          },
          "metadata": {
            "tags": []
          }
        },
        {
          "output_type": "stream",
          "text": [
            "Saving cereal.csv to cereal (1).csv\n"
          ],
          "name": "stdout"
        }
      ]
    },
    {
      "cell_type": "markdown",
      "metadata": {
        "id": "0U47b-48aS2z"
      },
      "source": [
        "1)Lea el archivo cereal.csv\n",
        "\n",
        "Tome el header (nombre de cada columna) y guardelo en una lista\n",
        "\n"
      ]
    },
    {
      "cell_type": "code",
      "metadata": {
        "id": "GOkyglhubEr_",
        "colab": {
          "base_uri": "https://localhost:8080/"
        },
        "outputId": "7ed5ebc7-c00e-4753-c9d2-87a8757e8c4d"
      },
      "source": [
        "import csv\n",
        "\n",
        "with open('cereal.csv', 'r') as f:\n",
        "    d_reader = csv.DictReader(f,delimiter=',')\n",
        "    headers = d_reader.fieldnames\n",
        "    print(headers)\n",
        "\n",
        "     \n",
        " "
      ],
      "execution_count": 3,
      "outputs": [
        {
          "output_type": "stream",
          "text": [
            "['name', 'mfr', 'type', 'calories', 'protein', 'fat', 'sodium', 'fiber', 'carbo', 'sugars', 'potass', 'vitamins', 'shelf', 'weight', 'cups', 'rating']\n"
          ],
          "name": "stdout"
        }
      ]
    },
    {
      "cell_type": "markdown",
      "metadata": {
        "id": "z5jSbN7qbFQo"
      },
      "source": [
        "2) Lea cada una de las lineas del archivo guardando en listas diferentes cada dato relacionado con una columna en particular, o sea una lista para los elementos de la primera columna, otra lista para los elementos de la tercera columna, y asi sucesivamente.\n",
        "\n",
        "(Utilice la funcion split de los string)"
      ]
    },
    {
      "cell_type": "code",
      "metadata": {
        "colab": {
          "base_uri": "https://localhost:8080/"
        },
        "id": "jGaMTclFdt0B",
        "outputId": "e6901d5c-0c5f-4c13-917c-37c60dd39e5f"
      },
      "source": [
        "import csv\n",
        "\n",
        "with open('cereal.csv') as csv_file:\n",
        "    csv_reader = csv.reader(csv_file, delimiter=',')\n",
        "    line_count = 0       \n",
        "    for row in csv_reader:\n",
        "        l=row \n",
        "        #print(l)\n",
        "        if line_count == 0:   \n",
        "           cabecero=row\n",
        "           for cab in cabecero:\n",
        "               locals()[f'{cab}']=[]\n",
        "        else:\n",
        "            j=0\n",
        "            for cab in cabecero:\n",
        "              locals()[f'{cab}'].append(row[j]) \n",
        "              j +=1\n",
        "        line_count += 1\n",
        "    for cab in cabecero:\n",
        "        print(cab +'=' )\n",
        "        print ( locals()[f'{cab}'])   \n",
        "  "
      ],
      "execution_count": 4,
      "outputs": [
        {
          "output_type": "stream",
          "text": [
            "name=\n",
            "['100% Bran', '100% Natural Bran', 'All-Bran', 'All-Bran with Extra Fiber', 'Almond Delight', 'Apple Cinnamon Cheerios', 'Apple Jacks', 'Basic 4', 'Bran Chex', 'Bran Flakes', \"Cap'n'Crunch\", 'Cheerios', 'Cinnamon Toast Crunch', 'Clusters', 'Cocoa Puffs', 'Corn Chex', 'Corn Flakes', 'Corn Pops', 'Count Chocula', \"Cracklin' Oat Bran\", 'Cream of Wheat (Quick)', 'Crispix', 'Crispy Wheat & Raisins', 'Double Chex', 'Froot Loops', 'Frosted Flakes', 'Frosted Mini-Wheats', 'Fruit & Fibre Dates; Walnuts; and Oats', 'Fruitful Bran', 'Fruity Pebbles', 'Golden Crisp', 'Golden Grahams', 'Grape Nuts Flakes', 'Grape-Nuts', 'Great Grains Pecan', 'Honey Graham Ohs', 'Honey Nut Cheerios', 'Honey-comb', 'Just Right Crunchy  Nuggets', 'Just Right Fruit & Nut', 'Kix', 'Life', 'Lucky Charms', 'Maypo', 'Muesli Raisins; Dates; & Almonds', 'Muesli Raisins; Peaches; & Pecans', 'Mueslix Crispy Blend', 'Multi-Grain Cheerios', 'Nut&Honey Crunch', 'Nutri-Grain Almond-Raisin', 'Nutri-grain Wheat', 'Oatmeal Raisin Crisp', 'Post Nat. Raisin Bran', 'Product 19', 'Puffed Rice', 'Puffed Wheat', 'Quaker Oat Squares', 'Quaker Oatmeal', 'Raisin Bran', 'Raisin Nut Bran', 'Raisin Squares', 'Rice Chex', 'Rice Krispies', 'Shredded Wheat', \"Shredded Wheat 'n'Bran\", 'Shredded Wheat spoon size', 'Smacks', 'Special K', 'Strawberry Fruit Wheats', 'Total Corn Flakes', 'Total Raisin Bran', 'Total Whole Grain', 'Triples', 'Trix', 'Wheat Chex', 'Wheaties', 'Wheaties Honey Gold']\n",
            "mfr=\n",
            "['N', 'Q', 'K', 'K', 'R', 'G', 'K', 'G', 'R', 'P', 'Q', 'G', 'G', 'G', 'G', 'R', 'K', 'K', 'G', 'K', 'N', 'K', 'G', 'R', 'K', 'K', 'K', 'P', 'K', 'P', 'P', 'G', 'P', 'P', 'P', 'Q', 'G', 'P', 'K', 'K', 'G', 'Q', 'G', 'A', 'R', 'R', 'K', 'G', 'K', 'K', 'K', 'G', 'P', 'K', 'Q', 'Q', 'Q', 'Q', 'K', 'G', 'K', 'R', 'K', 'N', 'N', 'N', 'K', 'K', 'N', 'G', 'G', 'G', 'G', 'G', 'R', 'G', 'G']\n",
            "type=\n",
            "['C', 'C', 'C', 'C', 'C', 'C', 'C', 'C', 'C', 'C', 'C', 'C', 'C', 'C', 'C', 'C', 'C', 'C', 'C', 'C', 'H', 'C', 'C', 'C', 'C', 'C', 'C', 'C', 'C', 'C', 'C', 'C', 'C', 'C', 'C', 'C', 'C', 'C', 'C', 'C', 'C', 'C', 'C', 'H', 'C', 'C', 'C', 'C', 'C', 'C', 'C', 'C', 'C', 'C', 'C', 'C', 'C', 'H', 'C', 'C', 'C', 'C', 'C', 'C', 'C', 'C', 'C', 'C', 'C', 'C', 'C', 'C', 'C', 'C', 'C', 'C', 'C']\n",
            "calories=\n",
            "['70', '120', '70', '50', '110', '110', '110', '130', '90', '90', '120', '110', '120', '110', '110', '110', '100', '110', '110', '110', '100', '110', '100', '100', '110', '110', '100', '120', '120', '110', '100', '110', '100', '110', '120', '120', '110', '110', '110', '140', '110', '100', '110', '100', '150', '150', '160', '100', '120', '140', '90', '130', '120', '100', '50', '50', '100', '100', '120', '100', '90', '110', '110', '80', '90', '90', '110', '110', '90', '110', '140', '100', '110', '110', '100', '100', '110']\n",
            "protein=\n",
            "['4', '3', '4', '4', '2', '2', '2', '3', '2', '3', '1', '6', '1', '3', '1', '2', '2', '1', '1', '3', '3', '2', '2', '2', '2', '1', '3', '3', '3', '1', '2', '1', '3', '3', '3', '1', '3', '1', '2', '3', '2', '4', '2', '4', '4', '4', '3', '2', '2', '3', '3', '3', '3', '3', '1', '2', '4', '5', '3', '3', '2', '1', '2', '2', '3', '3', '2', '6', '2', '2', '3', '3', '2', '1', '3', '3', '2']\n",
            "fat=\n",
            "['1', '5', '1', '0', '2', '2', '0', '2', '1', '0', '2', '2', '3', '2', '1', '0', '0', '0', '1', '3', '0', '0', '1', '0', '1', '0', '0', '2', '0', '1', '0', '1', '1', '0', '3', '2', '1', '0', '1', '1', '1', '2', '1', '1', '3', '3', '2', '1', '1', '2', '0', '2', '1', '0', '0', '0', '1', '2', '1', '2', '0', '0', '0', '0', '0', '0', '1', '0', '0', '1', '1', '1', '1', '1', '1', '1', '1']\n",
            "sodium=\n",
            "['130', '15', '260', '140', '200', '180', '125', '210', '200', '210', '220', '290', '210', '140', '180', '280', '290', '90', '180', '140', '80', '220', '140', '190', '125', '200', '0', '160', '240', '135', '45', '280', '140', '170', '75', '220', '250', '180', '170', '170', '260', '150', '180', '0', '95', '150', '150', '220', '190', '220', '170', '170', '200', '320', '0', '0', '135', '0', '210', '140', '0', '240', '290', '0', '0', '0', '70', '230', '15', '200', '190', '200', '250', '140', '230', '200', '200']\n",
            "fiber=\n",
            "['10', '2', '9', '14', '1', '1.5', '1', '2', '4', '5', '0', '2', '0', '2', '0', '0', '1', '1', '0', '4', '1', '1', '2', '1', '1', '1', '3', '5', '5', '0', '0', '0', '3', '3', '3', '1', '1.5', '0', '1', '2', '0', '2', '0', '0', '3', '3', '3', '2', '0', '3', '3', '1.5', '6', '1', '0', '1', '2', '2.7', '5', '2.5', '2', '0', '0', '3', '4', '3', '1', '1', '3', '0', '4', '3', '0', '0', '3', '3', '1']\n",
            "carbo=\n",
            "['5', '8', '7', '8', '14', '10.5', '11', '18', '15', '13', '12', '17', '13', '13', '12', '22', '21', '13', '12', '10', '21', '21', '11', '18', '11', '14', '14', '12', '14', '13', '11', '15', '15', '17', '13', '12', '11.5', '14', '17', '20', '21', '12', '12', '16', '16', '16', '17', '15', '15', '21', '18', '13.5', '11', '20', '13', '10', '14', '-1', '14', '10.5', '15', '23', '22', '16', '19', '20', '9', '16', '15', '21', '15', '16', '21', '13', '17', '17', '16']\n",
            "sugars=\n",
            "['6', '8', '5', '0', '8', '10', '14', '8', '6', '5', '12', '1', '9', '7', '13', '3', '2', '12', '13', '7', '0', '3', '10', '5', '13', '11', '7', '10', '12', '12', '15', '9', '5', '3', '4', '11', '10', '11', '6', '9', '3', '6', '12', '3', '11', '11', '13', '6', '9', '7', '2', '10', '14', '3', '0', '0', '6', '-1', '12', '8', '6', '2', '3', '0', '0', '0', '15', '3', '5', '3', '14', '3', '3', '12', '3', '3', '8']\n",
            "potass=\n",
            "['280', '135', '320', '330', '-1', '70', '30', '100', '125', '190', '35', '105', '45', '105', '55', '25', '35', '20', '65', '160', '-1', '30', '120', '80', '30', '25', '100', '200', '190', '25', '40', '45', '85', '90', '100', '45', '90', '35', '60', '95', '40', '95', '55', '95', '170', '170', '160', '90', '40', '130', '90', '120', '260', '45', '15', '50', '110', '110', '240', '140', '110', '30', '35', '95', '140', '120', '40', '55', '90', '35', '230', '110', '60', '25', '115', '110', '60']\n",
            "vitamins=\n",
            "['25', '0', '25', '25', '25', '25', '25', '25', '25', '25', '25', '25', '25', '25', '25', '25', '25', '25', '25', '25', '0', '25', '25', '25', '25', '25', '25', '25', '25', '25', '25', '25', '25', '25', '25', '25', '25', '25', '100', '100', '25', '25', '25', '25', '25', '25', '25', '25', '25', '25', '25', '25', '25', '100', '0', '0', '25', '0', '25', '25', '25', '25', '25', '0', '0', '0', '25', '25', '25', '100', '100', '100', '25', '25', '25', '25', '25']\n",
            "shelf=\n",
            "['3', '3', '3', '3', '3', '1', '2', '3', '1', '3', '2', '1', '2', '3', '2', '1', '1', '2', '2', '3', '2', '3', '3', '3', '2', '1', '2', '3', '3', '2', '1', '2', '3', '3', '3', '2', '1', '1', '3', '3', '2', '2', '2', '2', '3', '3', '3', '1', '2', '3', '3', '3', '3', '3', '3', '3', '3', '1', '2', '3', '3', '1', '1', '1', '1', '1', '2', '1', '2', '3', '3', '3', '3', '2', '1', '1', '1']\n",
            "weight=\n",
            "['1', '1', '1', '1', '1', '1', '1', '1.33', '1', '1', '1', '1', '1', '1', '1', '1', '1', '1', '1', '1', '1', '1', '1', '1', '1', '1', '1', '1.25', '1.33', '1', '1', '1', '1', '1', '1', '1', '1', '1', '1', '1.3', '1', '1', '1', '1', '1', '1', '1.5', '1', '1', '1.33', '1', '1.25', '1.33', '1', '0.5', '0.5', '1', '1', '1.33', '1', '1', '1', '1', '0.83', '1', '1', '1', '1', '1', '1', '1.5', '1', '1', '1', '1', '1', '1']\n",
            "cups=\n",
            "['0.33', '1', '0.33', '0.5', '0.75', '0.75', '1', '0.75', '0.67', '0.67', '0.75', '1.25', '0.75', '0.5', '1', '1', '1', '1', '1', '0.5', '1', '1', '0.75', '0.75', '1', '0.75', '0.8', '0.67', '0.67', '0.75', '0.88', '0.75', '0.88', '0.25', '0.33', '1', '0.75', '1.33', '1', '0.75', '1.5', '0.67', '1', '1', '1', '1', '0.67', '1', '0.67', '0.67', '1', '0.5', '0.67', '1', '1', '1', '0.5', '0.67', '0.75', '0.5', '0.5', '1.13', '1', '1', '0.67', '0.67', '0.75', '1', '1', '1', '1', '1', '0.75', '1', '0.67', '1', '0.75']\n",
            "rating=\n",
            "['68.402973', '33.983679', '59.425505', '93.704912', '34.384843', '29.509541', '33.174094', '37.038562', '49.120253', '53.313813', '18.042851', '50.764999', '19.823573', '40.400208', '22.736446', '41.445019', '45.863324', '35.782791', '22.396513', '40.448772', '64.533816', '46.895644', '36.176196', '44.330856', '32.207582', '31.435973', '58.345141', '40.917047', '41.015492', '28.025765', '35.252444', '23.804043', '52.076897', '53.371007', '45.811716', '21.871292', '31.072217', '28.742414', '36.523683', '36.471512', '39.241114', '45.328074', '26.734515', '54.850917', '37.136863', '34.139765', '30.313351', '40.105965', '29.924285', '40.692320', '59.642837', '30.450843', '37.840594', '41.503540', '60.756112', '63.005645', '49.511874', '50.828392', '39.259197', '39.703400', '55.333142', '41.998933', '40.560159', '68.235885', '74.472949', '72.801787', '31.230054', '53.131324', '59.363993', '38.839746', '28.592785', '46.658844', '39.106174', '27.753301', '49.787445', '51.592193', '36.187559']\n"
          ],
          "name": "stdout"
        }
      ]
    },
    {
      "cell_type": "markdown",
      "metadata": {
        "id": "VjpCNiIfbbnO"
      },
      "source": [
        "3) Arme un diccionario en donde cada clave sea el nombre de la columna y cada valor sea una lista con los valores de esa columna"
      ]
    },
    {
      "cell_type": "code",
      "metadata": {
        "id": "OpHmkAQibnhz",
        "colab": {
          "base_uri": "https://localhost:8080/"
        },
        "outputId": "c239d1a5-8c94-4218-a6d3-df3e4d675027"
      },
      "source": [
        "import csv\n",
        "\n",
        "with open('cereal.csv') as csv_file:\n",
        "    csv_reader = csv.reader(csv_file, delimiter=',')\n",
        "    line_count = 0       \n",
        "    for row in csv_reader:\n",
        "        l=row \n",
        "        if line_count == 0:   \n",
        "           cabecero=row\n",
        "           for cab in cabecero:\n",
        "               locals()[f'{cab}']=[]\n",
        "        else:\n",
        "            j=0\n",
        "            for cab in cabecero:\n",
        "            #  print(locals()[f'{cab}'])\n",
        "              locals()[f'{cab}'].append(row[j]) \n",
        "              j +=1\n",
        "        line_count += 1\n",
        "    dic={}  \n",
        "    for cab in cabecero:\n",
        "        key=cab\n",
        "        val=locals()[f'{cab}']\n",
        "        print(val)\n",
        "        dic[key] =val\n",
        "    print (dic)    \n"
      ],
      "execution_count": 5,
      "outputs": [
        {
          "output_type": "stream",
          "text": [
            "['100% Bran', '100% Natural Bran', 'All-Bran', 'All-Bran with Extra Fiber', 'Almond Delight', 'Apple Cinnamon Cheerios', 'Apple Jacks', 'Basic 4', 'Bran Chex', 'Bran Flakes', \"Cap'n'Crunch\", 'Cheerios', 'Cinnamon Toast Crunch', 'Clusters', 'Cocoa Puffs', 'Corn Chex', 'Corn Flakes', 'Corn Pops', 'Count Chocula', \"Cracklin' Oat Bran\", 'Cream of Wheat (Quick)', 'Crispix', 'Crispy Wheat & Raisins', 'Double Chex', 'Froot Loops', 'Frosted Flakes', 'Frosted Mini-Wheats', 'Fruit & Fibre Dates; Walnuts; and Oats', 'Fruitful Bran', 'Fruity Pebbles', 'Golden Crisp', 'Golden Grahams', 'Grape Nuts Flakes', 'Grape-Nuts', 'Great Grains Pecan', 'Honey Graham Ohs', 'Honey Nut Cheerios', 'Honey-comb', 'Just Right Crunchy  Nuggets', 'Just Right Fruit & Nut', 'Kix', 'Life', 'Lucky Charms', 'Maypo', 'Muesli Raisins; Dates; & Almonds', 'Muesli Raisins; Peaches; & Pecans', 'Mueslix Crispy Blend', 'Multi-Grain Cheerios', 'Nut&Honey Crunch', 'Nutri-Grain Almond-Raisin', 'Nutri-grain Wheat', 'Oatmeal Raisin Crisp', 'Post Nat. Raisin Bran', 'Product 19', 'Puffed Rice', 'Puffed Wheat', 'Quaker Oat Squares', 'Quaker Oatmeal', 'Raisin Bran', 'Raisin Nut Bran', 'Raisin Squares', 'Rice Chex', 'Rice Krispies', 'Shredded Wheat', \"Shredded Wheat 'n'Bran\", 'Shredded Wheat spoon size', 'Smacks', 'Special K', 'Strawberry Fruit Wheats', 'Total Corn Flakes', 'Total Raisin Bran', 'Total Whole Grain', 'Triples', 'Trix', 'Wheat Chex', 'Wheaties', 'Wheaties Honey Gold']\n",
            "['N', 'Q', 'K', 'K', 'R', 'G', 'K', 'G', 'R', 'P', 'Q', 'G', 'G', 'G', 'G', 'R', 'K', 'K', 'G', 'K', 'N', 'K', 'G', 'R', 'K', 'K', 'K', 'P', 'K', 'P', 'P', 'G', 'P', 'P', 'P', 'Q', 'G', 'P', 'K', 'K', 'G', 'Q', 'G', 'A', 'R', 'R', 'K', 'G', 'K', 'K', 'K', 'G', 'P', 'K', 'Q', 'Q', 'Q', 'Q', 'K', 'G', 'K', 'R', 'K', 'N', 'N', 'N', 'K', 'K', 'N', 'G', 'G', 'G', 'G', 'G', 'R', 'G', 'G']\n",
            "['C', 'C', 'C', 'C', 'C', 'C', 'C', 'C', 'C', 'C', 'C', 'C', 'C', 'C', 'C', 'C', 'C', 'C', 'C', 'C', 'H', 'C', 'C', 'C', 'C', 'C', 'C', 'C', 'C', 'C', 'C', 'C', 'C', 'C', 'C', 'C', 'C', 'C', 'C', 'C', 'C', 'C', 'C', 'H', 'C', 'C', 'C', 'C', 'C', 'C', 'C', 'C', 'C', 'C', 'C', 'C', 'C', 'H', 'C', 'C', 'C', 'C', 'C', 'C', 'C', 'C', 'C', 'C', 'C', 'C', 'C', 'C', 'C', 'C', 'C', 'C', 'C']\n",
            "['70', '120', '70', '50', '110', '110', '110', '130', '90', '90', '120', '110', '120', '110', '110', '110', '100', '110', '110', '110', '100', '110', '100', '100', '110', '110', '100', '120', '120', '110', '100', '110', '100', '110', '120', '120', '110', '110', '110', '140', '110', '100', '110', '100', '150', '150', '160', '100', '120', '140', '90', '130', '120', '100', '50', '50', '100', '100', '120', '100', '90', '110', '110', '80', '90', '90', '110', '110', '90', '110', '140', '100', '110', '110', '100', '100', '110']\n",
            "['4', '3', '4', '4', '2', '2', '2', '3', '2', '3', '1', '6', '1', '3', '1', '2', '2', '1', '1', '3', '3', '2', '2', '2', '2', '1', '3', '3', '3', '1', '2', '1', '3', '3', '3', '1', '3', '1', '2', '3', '2', '4', '2', '4', '4', '4', '3', '2', '2', '3', '3', '3', '3', '3', '1', '2', '4', '5', '3', '3', '2', '1', '2', '2', '3', '3', '2', '6', '2', '2', '3', '3', '2', '1', '3', '3', '2']\n",
            "['1', '5', '1', '0', '2', '2', '0', '2', '1', '0', '2', '2', '3', '2', '1', '0', '0', '0', '1', '3', '0', '0', '1', '0', '1', '0', '0', '2', '0', '1', '0', '1', '1', '0', '3', '2', '1', '0', '1', '1', '1', '2', '1', '1', '3', '3', '2', '1', '1', '2', '0', '2', '1', '0', '0', '0', '1', '2', '1', '2', '0', '0', '0', '0', '0', '0', '1', '0', '0', '1', '1', '1', '1', '1', '1', '1', '1']\n",
            "['130', '15', '260', '140', '200', '180', '125', '210', '200', '210', '220', '290', '210', '140', '180', '280', '290', '90', '180', '140', '80', '220', '140', '190', '125', '200', '0', '160', '240', '135', '45', '280', '140', '170', '75', '220', '250', '180', '170', '170', '260', '150', '180', '0', '95', '150', '150', '220', '190', '220', '170', '170', '200', '320', '0', '0', '135', '0', '210', '140', '0', '240', '290', '0', '0', '0', '70', '230', '15', '200', '190', '200', '250', '140', '230', '200', '200']\n",
            "['10', '2', '9', '14', '1', '1.5', '1', '2', '4', '5', '0', '2', '0', '2', '0', '0', '1', '1', '0', '4', '1', '1', '2', '1', '1', '1', '3', '5', '5', '0', '0', '0', '3', '3', '3', '1', '1.5', '0', '1', '2', '0', '2', '0', '0', '3', '3', '3', '2', '0', '3', '3', '1.5', '6', '1', '0', '1', '2', '2.7', '5', '2.5', '2', '0', '0', '3', '4', '3', '1', '1', '3', '0', '4', '3', '0', '0', '3', '3', '1']\n",
            "['5', '8', '7', '8', '14', '10.5', '11', '18', '15', '13', '12', '17', '13', '13', '12', '22', '21', '13', '12', '10', '21', '21', '11', '18', '11', '14', '14', '12', '14', '13', '11', '15', '15', '17', '13', '12', '11.5', '14', '17', '20', '21', '12', '12', '16', '16', '16', '17', '15', '15', '21', '18', '13.5', '11', '20', '13', '10', '14', '-1', '14', '10.5', '15', '23', '22', '16', '19', '20', '9', '16', '15', '21', '15', '16', '21', '13', '17', '17', '16']\n",
            "['6', '8', '5', '0', '8', '10', '14', '8', '6', '5', '12', '1', '9', '7', '13', '3', '2', '12', '13', '7', '0', '3', '10', '5', '13', '11', '7', '10', '12', '12', '15', '9', '5', '3', '4', '11', '10', '11', '6', '9', '3', '6', '12', '3', '11', '11', '13', '6', '9', '7', '2', '10', '14', '3', '0', '0', '6', '-1', '12', '8', '6', '2', '3', '0', '0', '0', '15', '3', '5', '3', '14', '3', '3', '12', '3', '3', '8']\n",
            "['280', '135', '320', '330', '-1', '70', '30', '100', '125', '190', '35', '105', '45', '105', '55', '25', '35', '20', '65', '160', '-1', '30', '120', '80', '30', '25', '100', '200', '190', '25', '40', '45', '85', '90', '100', '45', '90', '35', '60', '95', '40', '95', '55', '95', '170', '170', '160', '90', '40', '130', '90', '120', '260', '45', '15', '50', '110', '110', '240', '140', '110', '30', '35', '95', '140', '120', '40', '55', '90', '35', '230', '110', '60', '25', '115', '110', '60']\n",
            "['25', '0', '25', '25', '25', '25', '25', '25', '25', '25', '25', '25', '25', '25', '25', '25', '25', '25', '25', '25', '0', '25', '25', '25', '25', '25', '25', '25', '25', '25', '25', '25', '25', '25', '25', '25', '25', '25', '100', '100', '25', '25', '25', '25', '25', '25', '25', '25', '25', '25', '25', '25', '25', '100', '0', '0', '25', '0', '25', '25', '25', '25', '25', '0', '0', '0', '25', '25', '25', '100', '100', '100', '25', '25', '25', '25', '25']\n",
            "['3', '3', '3', '3', '3', '1', '2', '3', '1', '3', '2', '1', '2', '3', '2', '1', '1', '2', '2', '3', '2', '3', '3', '3', '2', '1', '2', '3', '3', '2', '1', '2', '3', '3', '3', '2', '1', '1', '3', '3', '2', '2', '2', '2', '3', '3', '3', '1', '2', '3', '3', '3', '3', '3', '3', '3', '3', '1', '2', '3', '3', '1', '1', '1', '1', '1', '2', '1', '2', '3', '3', '3', '3', '2', '1', '1', '1']\n",
            "['1', '1', '1', '1', '1', '1', '1', '1.33', '1', '1', '1', '1', '1', '1', '1', '1', '1', '1', '1', '1', '1', '1', '1', '1', '1', '1', '1', '1.25', '1.33', '1', '1', '1', '1', '1', '1', '1', '1', '1', '1', '1.3', '1', '1', '1', '1', '1', '1', '1.5', '1', '1', '1.33', '1', '1.25', '1.33', '1', '0.5', '0.5', '1', '1', '1.33', '1', '1', '1', '1', '0.83', '1', '1', '1', '1', '1', '1', '1.5', '1', '1', '1', '1', '1', '1']\n",
            "['0.33', '1', '0.33', '0.5', '0.75', '0.75', '1', '0.75', '0.67', '0.67', '0.75', '1.25', '0.75', '0.5', '1', '1', '1', '1', '1', '0.5', '1', '1', '0.75', '0.75', '1', '0.75', '0.8', '0.67', '0.67', '0.75', '0.88', '0.75', '0.88', '0.25', '0.33', '1', '0.75', '1.33', '1', '0.75', '1.5', '0.67', '1', '1', '1', '1', '0.67', '1', '0.67', '0.67', '1', '0.5', '0.67', '1', '1', '1', '0.5', '0.67', '0.75', '0.5', '0.5', '1.13', '1', '1', '0.67', '0.67', '0.75', '1', '1', '1', '1', '1', '0.75', '1', '0.67', '1', '0.75']\n",
            "['68.402973', '33.983679', '59.425505', '93.704912', '34.384843', '29.509541', '33.174094', '37.038562', '49.120253', '53.313813', '18.042851', '50.764999', '19.823573', '40.400208', '22.736446', '41.445019', '45.863324', '35.782791', '22.396513', '40.448772', '64.533816', '46.895644', '36.176196', '44.330856', '32.207582', '31.435973', '58.345141', '40.917047', '41.015492', '28.025765', '35.252444', '23.804043', '52.076897', '53.371007', '45.811716', '21.871292', '31.072217', '28.742414', '36.523683', '36.471512', '39.241114', '45.328074', '26.734515', '54.850917', '37.136863', '34.139765', '30.313351', '40.105965', '29.924285', '40.692320', '59.642837', '30.450843', '37.840594', '41.503540', '60.756112', '63.005645', '49.511874', '50.828392', '39.259197', '39.703400', '55.333142', '41.998933', '40.560159', '68.235885', '74.472949', '72.801787', '31.230054', '53.131324', '59.363993', '38.839746', '28.592785', '46.658844', '39.106174', '27.753301', '49.787445', '51.592193', '36.187559']\n",
            "{'name': ['100% Bran', '100% Natural Bran', 'All-Bran', 'All-Bran with Extra Fiber', 'Almond Delight', 'Apple Cinnamon Cheerios', 'Apple Jacks', 'Basic 4', 'Bran Chex', 'Bran Flakes', \"Cap'n'Crunch\", 'Cheerios', 'Cinnamon Toast Crunch', 'Clusters', 'Cocoa Puffs', 'Corn Chex', 'Corn Flakes', 'Corn Pops', 'Count Chocula', \"Cracklin' Oat Bran\", 'Cream of Wheat (Quick)', 'Crispix', 'Crispy Wheat & Raisins', 'Double Chex', 'Froot Loops', 'Frosted Flakes', 'Frosted Mini-Wheats', 'Fruit & Fibre Dates; Walnuts; and Oats', 'Fruitful Bran', 'Fruity Pebbles', 'Golden Crisp', 'Golden Grahams', 'Grape Nuts Flakes', 'Grape-Nuts', 'Great Grains Pecan', 'Honey Graham Ohs', 'Honey Nut Cheerios', 'Honey-comb', 'Just Right Crunchy  Nuggets', 'Just Right Fruit & Nut', 'Kix', 'Life', 'Lucky Charms', 'Maypo', 'Muesli Raisins; Dates; & Almonds', 'Muesli Raisins; Peaches; & Pecans', 'Mueslix Crispy Blend', 'Multi-Grain Cheerios', 'Nut&Honey Crunch', 'Nutri-Grain Almond-Raisin', 'Nutri-grain Wheat', 'Oatmeal Raisin Crisp', 'Post Nat. Raisin Bran', 'Product 19', 'Puffed Rice', 'Puffed Wheat', 'Quaker Oat Squares', 'Quaker Oatmeal', 'Raisin Bran', 'Raisin Nut Bran', 'Raisin Squares', 'Rice Chex', 'Rice Krispies', 'Shredded Wheat', \"Shredded Wheat 'n'Bran\", 'Shredded Wheat spoon size', 'Smacks', 'Special K', 'Strawberry Fruit Wheats', 'Total Corn Flakes', 'Total Raisin Bran', 'Total Whole Grain', 'Triples', 'Trix', 'Wheat Chex', 'Wheaties', 'Wheaties Honey Gold'], 'mfr': ['N', 'Q', 'K', 'K', 'R', 'G', 'K', 'G', 'R', 'P', 'Q', 'G', 'G', 'G', 'G', 'R', 'K', 'K', 'G', 'K', 'N', 'K', 'G', 'R', 'K', 'K', 'K', 'P', 'K', 'P', 'P', 'G', 'P', 'P', 'P', 'Q', 'G', 'P', 'K', 'K', 'G', 'Q', 'G', 'A', 'R', 'R', 'K', 'G', 'K', 'K', 'K', 'G', 'P', 'K', 'Q', 'Q', 'Q', 'Q', 'K', 'G', 'K', 'R', 'K', 'N', 'N', 'N', 'K', 'K', 'N', 'G', 'G', 'G', 'G', 'G', 'R', 'G', 'G'], 'type': ['C', 'C', 'C', 'C', 'C', 'C', 'C', 'C', 'C', 'C', 'C', 'C', 'C', 'C', 'C', 'C', 'C', 'C', 'C', 'C', 'H', 'C', 'C', 'C', 'C', 'C', 'C', 'C', 'C', 'C', 'C', 'C', 'C', 'C', 'C', 'C', 'C', 'C', 'C', 'C', 'C', 'C', 'C', 'H', 'C', 'C', 'C', 'C', 'C', 'C', 'C', 'C', 'C', 'C', 'C', 'C', 'C', 'H', 'C', 'C', 'C', 'C', 'C', 'C', 'C', 'C', 'C', 'C', 'C', 'C', 'C', 'C', 'C', 'C', 'C', 'C', 'C'], 'calories': ['70', '120', '70', '50', '110', '110', '110', '130', '90', '90', '120', '110', '120', '110', '110', '110', '100', '110', '110', '110', '100', '110', '100', '100', '110', '110', '100', '120', '120', '110', '100', '110', '100', '110', '120', '120', '110', '110', '110', '140', '110', '100', '110', '100', '150', '150', '160', '100', '120', '140', '90', '130', '120', '100', '50', '50', '100', '100', '120', '100', '90', '110', '110', '80', '90', '90', '110', '110', '90', '110', '140', '100', '110', '110', '100', '100', '110'], 'protein': ['4', '3', '4', '4', '2', '2', '2', '3', '2', '3', '1', '6', '1', '3', '1', '2', '2', '1', '1', '3', '3', '2', '2', '2', '2', '1', '3', '3', '3', '1', '2', '1', '3', '3', '3', '1', '3', '1', '2', '3', '2', '4', '2', '4', '4', '4', '3', '2', '2', '3', '3', '3', '3', '3', '1', '2', '4', '5', '3', '3', '2', '1', '2', '2', '3', '3', '2', '6', '2', '2', '3', '3', '2', '1', '3', '3', '2'], 'fat': ['1', '5', '1', '0', '2', '2', '0', '2', '1', '0', '2', '2', '3', '2', '1', '0', '0', '0', '1', '3', '0', '0', '1', '0', '1', '0', '0', '2', '0', '1', '0', '1', '1', '0', '3', '2', '1', '0', '1', '1', '1', '2', '1', '1', '3', '3', '2', '1', '1', '2', '0', '2', '1', '0', '0', '0', '1', '2', '1', '2', '0', '0', '0', '0', '0', '0', '1', '0', '0', '1', '1', '1', '1', '1', '1', '1', '1'], 'sodium': ['130', '15', '260', '140', '200', '180', '125', '210', '200', '210', '220', '290', '210', '140', '180', '280', '290', '90', '180', '140', '80', '220', '140', '190', '125', '200', '0', '160', '240', '135', '45', '280', '140', '170', '75', '220', '250', '180', '170', '170', '260', '150', '180', '0', '95', '150', '150', '220', '190', '220', '170', '170', '200', '320', '0', '0', '135', '0', '210', '140', '0', '240', '290', '0', '0', '0', '70', '230', '15', '200', '190', '200', '250', '140', '230', '200', '200'], 'fiber': ['10', '2', '9', '14', '1', '1.5', '1', '2', '4', '5', '0', '2', '0', '2', '0', '0', '1', '1', '0', '4', '1', '1', '2', '1', '1', '1', '3', '5', '5', '0', '0', '0', '3', '3', '3', '1', '1.5', '0', '1', '2', '0', '2', '0', '0', '3', '3', '3', '2', '0', '3', '3', '1.5', '6', '1', '0', '1', '2', '2.7', '5', '2.5', '2', '0', '0', '3', '4', '3', '1', '1', '3', '0', '4', '3', '0', '0', '3', '3', '1'], 'carbo': ['5', '8', '7', '8', '14', '10.5', '11', '18', '15', '13', '12', '17', '13', '13', '12', '22', '21', '13', '12', '10', '21', '21', '11', '18', '11', '14', '14', '12', '14', '13', '11', '15', '15', '17', '13', '12', '11.5', '14', '17', '20', '21', '12', '12', '16', '16', '16', '17', '15', '15', '21', '18', '13.5', '11', '20', '13', '10', '14', '-1', '14', '10.5', '15', '23', '22', '16', '19', '20', '9', '16', '15', '21', '15', '16', '21', '13', '17', '17', '16'], 'sugars': ['6', '8', '5', '0', '8', '10', '14', '8', '6', '5', '12', '1', '9', '7', '13', '3', '2', '12', '13', '7', '0', '3', '10', '5', '13', '11', '7', '10', '12', '12', '15', '9', '5', '3', '4', '11', '10', '11', '6', '9', '3', '6', '12', '3', '11', '11', '13', '6', '9', '7', '2', '10', '14', '3', '0', '0', '6', '-1', '12', '8', '6', '2', '3', '0', '0', '0', '15', '3', '5', '3', '14', '3', '3', '12', '3', '3', '8'], 'potass': ['280', '135', '320', '330', '-1', '70', '30', '100', '125', '190', '35', '105', '45', '105', '55', '25', '35', '20', '65', '160', '-1', '30', '120', '80', '30', '25', '100', '200', '190', '25', '40', '45', '85', '90', '100', '45', '90', '35', '60', '95', '40', '95', '55', '95', '170', '170', '160', '90', '40', '130', '90', '120', '260', '45', '15', '50', '110', '110', '240', '140', '110', '30', '35', '95', '140', '120', '40', '55', '90', '35', '230', '110', '60', '25', '115', '110', '60'], 'vitamins': ['25', '0', '25', '25', '25', '25', '25', '25', '25', '25', '25', '25', '25', '25', '25', '25', '25', '25', '25', '25', '0', '25', '25', '25', '25', '25', '25', '25', '25', '25', '25', '25', '25', '25', '25', '25', '25', '25', '100', '100', '25', '25', '25', '25', '25', '25', '25', '25', '25', '25', '25', '25', '25', '100', '0', '0', '25', '0', '25', '25', '25', '25', '25', '0', '0', '0', '25', '25', '25', '100', '100', '100', '25', '25', '25', '25', '25'], 'shelf': ['3', '3', '3', '3', '3', '1', '2', '3', '1', '3', '2', '1', '2', '3', '2', '1', '1', '2', '2', '3', '2', '3', '3', '3', '2', '1', '2', '3', '3', '2', '1', '2', '3', '3', '3', '2', '1', '1', '3', '3', '2', '2', '2', '2', '3', '3', '3', '1', '2', '3', '3', '3', '3', '3', '3', '3', '3', '1', '2', '3', '3', '1', '1', '1', '1', '1', '2', '1', '2', '3', '3', '3', '3', '2', '1', '1', '1'], 'weight': ['1', '1', '1', '1', '1', '1', '1', '1.33', '1', '1', '1', '1', '1', '1', '1', '1', '1', '1', '1', '1', '1', '1', '1', '1', '1', '1', '1', '1.25', '1.33', '1', '1', '1', '1', '1', '1', '1', '1', '1', '1', '1.3', '1', '1', '1', '1', '1', '1', '1.5', '1', '1', '1.33', '1', '1.25', '1.33', '1', '0.5', '0.5', '1', '1', '1.33', '1', '1', '1', '1', '0.83', '1', '1', '1', '1', '1', '1', '1.5', '1', '1', '1', '1', '1', '1'], 'cups': ['0.33', '1', '0.33', '0.5', '0.75', '0.75', '1', '0.75', '0.67', '0.67', '0.75', '1.25', '0.75', '0.5', '1', '1', '1', '1', '1', '0.5', '1', '1', '0.75', '0.75', '1', '0.75', '0.8', '0.67', '0.67', '0.75', '0.88', '0.75', '0.88', '0.25', '0.33', '1', '0.75', '1.33', '1', '0.75', '1.5', '0.67', '1', '1', '1', '1', '0.67', '1', '0.67', '0.67', '1', '0.5', '0.67', '1', '1', '1', '0.5', '0.67', '0.75', '0.5', '0.5', '1.13', '1', '1', '0.67', '0.67', '0.75', '1', '1', '1', '1', '1', '0.75', '1', '0.67', '1', '0.75'], 'rating': ['68.402973', '33.983679', '59.425505', '93.704912', '34.384843', '29.509541', '33.174094', '37.038562', '49.120253', '53.313813', '18.042851', '50.764999', '19.823573', '40.400208', '22.736446', '41.445019', '45.863324', '35.782791', '22.396513', '40.448772', '64.533816', '46.895644', '36.176196', '44.330856', '32.207582', '31.435973', '58.345141', '40.917047', '41.015492', '28.025765', '35.252444', '23.804043', '52.076897', '53.371007', '45.811716', '21.871292', '31.072217', '28.742414', '36.523683', '36.471512', '39.241114', '45.328074', '26.734515', '54.850917', '37.136863', '34.139765', '30.313351', '40.105965', '29.924285', '40.692320', '59.642837', '30.450843', '37.840594', '41.503540', '60.756112', '63.005645', '49.511874', '50.828392', '39.259197', '39.703400', '55.333142', '41.998933', '40.560159', '68.235885', '74.472949', '72.801787', '31.230054', '53.131324', '59.363993', '38.839746', '28.592785', '46.658844', '39.106174', '27.753301', '49.787445', '51.592193', '36.187559']}\n"
          ],
          "name": "stdout"
        }
      ]
    },
    {
      "cell_type": "markdown",
      "metadata": {
        "id": "xw4q-N6nb4Du"
      },
      "source": [
        "4) Convierta los string numericos, en datos tipo float()"
      ]
    },
    {
      "cell_type": "code",
      "metadata": {
        "id": "91ct_g1kb971"
      },
      "source": [
        "for clave in dic:\n",
        "    # Hacer algo con esa clave\n",
        "    lista=dic[clave]\n",
        "    i=0\n",
        "    for l in lista:    \n",
        "       try:\n",
        "          l = float(l)\n",
        "          lista[i]=l\n",
        "       except:\n",
        "          pass \n",
        "       i +=1\n",
        "    dic[clave]=lista   \n",
        "    \n",
        "dic\n",
        "  \n",
        "  \n"
      ],
      "execution_count": null,
      "outputs": []
    },
    {
      "cell_type": "markdown",
      "metadata": {
        "id": "TgD4Ym4Hbno6"
      },
      "source": [
        "5) Arme una funcion que dado el nombre de la columna y el diccionario del punto anterior, calcule la media y el desvio estandar de los datos , ambos valores, media y desvio deben ser devueltos en una tupla = (media, desvio)"
      ]
    },
    {
      "cell_type": "code",
      "metadata": {
        "id": "iBLOVm1pcvWO",
        "colab": {
          "base_uri": "https://localhost:8080/"
        },
        "outputId": "4839001c-a477-4a73-ef1d-8cd841bc5637"
      },
      "source": [
        "import statistics\n",
        "\n",
        "def f (clave):\n",
        "   lista=dic[clave]\n",
        "   try:\n",
        "      media=statistics.median(lista)\n",
        "      desvio=statistics.pstdev(lista)\n",
        "      tup=(media,desvio)\n",
        "      return tup\n",
        "   except:\n",
        "      pass \n",
        "      \n",
        "print(f('name'))\n",
        "print(f('weight'))"
      ],
      "execution_count": 23,
      "outputs": [
        {
          "output_type": "stream",
          "text": [
            "None\n",
            "(1.0, 0.14949648441717606)\n"
          ],
          "name": "stdout"
        }
      ]
    },
    {
      "cell_type": "markdown",
      "metadata": {
        "id": "-aKiphG9cL7S"
      },
      "source": [
        "6) Dado un string con el nombre de un archivo, escriba una funcion que tome ese archivo (que va a ser tipo cereales.csv) y escriba otro archivo, con las medias de cada campo, si es que este es numerico, si no es numerico debe escribir \"campo no numerico\" "
      ]
    },
    {
      "cell_type": "code",
      "metadata": {
        "id": "u-azqMJacxp0",
        "colab": {
          "resources": {
            "http://localhost:8080/nbextensions/google.colab/files.js": {
              "data": "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",
              "ok": true,
              "headers": [
                [
                  "content-type",
                  "application/javascript"
                ]
              ],
              "status": 200,
              "status_text": "OK"
            }
          },
          "base_uri": "https://localhost:8080/",
          "height": 653
        },
        "outputId": "84c65ed2-ce45-45f7-d114-666e6c7781d8"
      },
      "source": [
        "def escribe(archivo):\n",
        "  with open(archivo) as csv_file:\n",
        "    csv_reader = csv.reader(csv_file, delimiter=',')\n",
        "    line_count = 0  \n",
        "    #print('ca')     \n",
        "    for row in csv_reader:\n",
        "        l=row \n",
        "        if line_count == 0:   \n",
        "           cabecero=row\n",
        "           for cab in cabecero:\n",
        "               locals()[f'{cab}']=[]\n",
        "        else:\n",
        "            j=0\n",
        "            for cab in cabecero:\n",
        "            #  print(locals()[f'{cab}'])\n",
        "              locals()[f'{cab}'].append(row[j]) \n",
        "              j +=1\n",
        "        line_count += 1\n",
        "    dic={}  \n",
        "    for cab in cabecero:\n",
        "        key=cab\n",
        "        val=locals()[f'{cab}']\n",
        "      #  print(val)\n",
        "        dic[key] =val\n",
        "  with open(\"Output.csv\", \"w\", newline=\"\") as Output_File:\n",
        "       for d in dic:\n",
        "          cab=d\n",
        "          lista=dic[d]\n",
        "          print(cab)\n",
        "          print(lista)\n",
        "          try:\n",
        "              media=statistics.median(lista)\n",
        "              desvio=statistics.pstdev(lista)\n",
        "              print(cab)\n",
        "              print(media)\n",
        "              print(desvio)\n",
        "\n",
        "              Output_File.write(cab,media,desvio,\"\\n\")\n",
        "          except:\n",
        "            pass \n",
        "  #  close()\n",
        "\n",
        "from google.colab import files\n",
        "uploaded = files.upload()\n",
        "print(archivo)\n",
        "\n",
        "escribe('cereal.csv')\n"
      ],
      "execution_count": 103,
      "outputs": [
        {
          "output_type": "display_data",
          "data": {
            "text/html": [
              "\n",
              "     <input type=\"file\" id=\"files-73c1b678-34fa-470c-a3e6-410a8182a36b\" name=\"files[]\" multiple disabled\n",
              "        style=\"border:none\" />\n",
              "     <output id=\"result-73c1b678-34fa-470c-a3e6-410a8182a36b\">\n",
              "      Upload widget is only available when the cell has been executed in the\n",
              "      current browser session. Please rerun this cell to enable.\n",
              "      </output>\n",
              "      <script src=\"/nbextensions/google.colab/files.js\"></script> "
            ],
            "text/plain": [
              "<IPython.core.display.HTML object>"
            ]
          },
          "metadata": {
            "tags": []
          }
        },
        {
          "output_type": "stream",
          "text": [
            "Saving cereal.csv to cereal (2).csv\n",
            "cereales.csv\n",
            "name\n",
            "['100% Bran', '100% Natural Bran', 'All-Bran', 'All-Bran with Extra Fiber', 'Almond Delight', 'Apple Cinnamon Cheerios', 'Apple Jacks', 'Basic 4', 'Bran Chex', 'Bran Flakes', \"Cap'n'Crunch\", 'Cheerios', 'Cinnamon Toast Crunch', 'Clusters', 'Cocoa Puffs', 'Corn Chex', 'Corn Flakes', 'Corn Pops', 'Count Chocula', \"Cracklin' Oat Bran\", 'Cream of Wheat (Quick)', 'Crispix', 'Crispy Wheat & Raisins', 'Double Chex', 'Froot Loops', 'Frosted Flakes', 'Frosted Mini-Wheats', 'Fruit & Fibre Dates; Walnuts; and Oats', 'Fruitful Bran', 'Fruity Pebbles', 'Golden Crisp', 'Golden Grahams', 'Grape Nuts Flakes', 'Grape-Nuts', 'Great Grains Pecan', 'Honey Graham Ohs', 'Honey Nut Cheerios', 'Honey-comb', 'Just Right Crunchy  Nuggets', 'Just Right Fruit & Nut', 'Kix', 'Life', 'Lucky Charms', 'Maypo', 'Muesli Raisins; Dates; & Almonds', 'Muesli Raisins; Peaches; & Pecans', 'Mueslix Crispy Blend', 'Multi-Grain Cheerios', 'Nut&Honey Crunch', 'Nutri-Grain Almond-Raisin', 'Nutri-grain Wheat', 'Oatmeal Raisin Crisp', 'Post Nat. Raisin Bran', 'Product 19', 'Puffed Rice', 'Puffed Wheat', 'Quaker Oat Squares', 'Quaker Oatmeal', 'Raisin Bran', 'Raisin Nut Bran', 'Raisin Squares', 'Rice Chex', 'Rice Krispies', 'Shredded Wheat', \"Shredded Wheat 'n'Bran\", 'Shredded Wheat spoon size', 'Smacks', 'Special K', 'Strawberry Fruit Wheats', 'Total Corn Flakes', 'Total Raisin Bran', 'Total Whole Grain', 'Triples', 'Trix', 'Wheat Chex', 'Wheaties', 'Wheaties Honey Gold']\n",
            "mfr\n",
            "['N', 'Q', 'K', 'K', 'R', 'G', 'K', 'G', 'R', 'P', 'Q', 'G', 'G', 'G', 'G', 'R', 'K', 'K', 'G', 'K', 'N', 'K', 'G', 'R', 'K', 'K', 'K', 'P', 'K', 'P', 'P', 'G', 'P', 'P', 'P', 'Q', 'G', 'P', 'K', 'K', 'G', 'Q', 'G', 'A', 'R', 'R', 'K', 'G', 'K', 'K', 'K', 'G', 'P', 'K', 'Q', 'Q', 'Q', 'Q', 'K', 'G', 'K', 'R', 'K', 'N', 'N', 'N', 'K', 'K', 'N', 'G', 'G', 'G', 'G', 'G', 'R', 'G', 'G']\n",
            "type\n",
            "['C', 'C', 'C', 'C', 'C', 'C', 'C', 'C', 'C', 'C', 'C', 'C', 'C', 'C', 'C', 'C', 'C', 'C', 'C', 'C', 'H', 'C', 'C', 'C', 'C', 'C', 'C', 'C', 'C', 'C', 'C', 'C', 'C', 'C', 'C', 'C', 'C', 'C', 'C', 'C', 'C', 'C', 'C', 'H', 'C', 'C', 'C', 'C', 'C', 'C', 'C', 'C', 'C', 'C', 'C', 'C', 'C', 'H', 'C', 'C', 'C', 'C', 'C', 'C', 'C', 'C', 'C', 'C', 'C', 'C', 'C', 'C', 'C', 'C', 'C', 'C', 'C']\n",
            "calories\n",
            "['70', '120', '70', '50', '110', '110', '110', '130', '90', '90', '120', '110', '120', '110', '110', '110', '100', '110', '110', '110', '100', '110', '100', '100', '110', '110', '100', '120', '120', '110', '100', '110', '100', '110', '120', '120', '110', '110', '110', '140', '110', '100', '110', '100', '150', '150', '160', '100', '120', '140', '90', '130', '120', '100', '50', '50', '100', '100', '120', '100', '90', '110', '110', '80', '90', '90', '110', '110', '90', '110', '140', '100', '110', '110', '100', '100', '110']\n",
            "protein\n",
            "['4', '3', '4', '4', '2', '2', '2', '3', '2', '3', '1', '6', '1', '3', '1', '2', '2', '1', '1', '3', '3', '2', '2', '2', '2', '1', '3', '3', '3', '1', '2', '1', '3', '3', '3', '1', '3', '1', '2', '3', '2', '4', '2', '4', '4', '4', '3', '2', '2', '3', '3', '3', '3', '3', '1', '2', '4', '5', '3', '3', '2', '1', '2', '2', '3', '3', '2', '6', '2', '2', '3', '3', '2', '1', '3', '3', '2']\n",
            "fat\n",
            "['1', '5', '1', '0', '2', '2', '0', '2', '1', '0', '2', '2', '3', '2', '1', '0', '0', '0', '1', '3', '0', '0', '1', '0', '1', '0', '0', '2', '0', '1', '0', '1', '1', '0', '3', '2', '1', '0', '1', '1', '1', '2', '1', '1', '3', '3', '2', '1', '1', '2', '0', '2', '1', '0', '0', '0', '1', '2', '1', '2', '0', '0', '0', '0', '0', '0', '1', '0', '0', '1', '1', '1', '1', '1', '1', '1', '1']\n",
            "sodium\n",
            "['130', '15', '260', '140', '200', '180', '125', '210', '200', '210', '220', '290', '210', '140', '180', '280', '290', '90', '180', '140', '80', '220', '140', '190', '125', '200', '0', '160', '240', '135', '45', '280', '140', '170', '75', '220', '250', '180', '170', '170', '260', '150', '180', '0', '95', '150', '150', '220', '190', '220', '170', '170', '200', '320', '0', '0', '135', '0', '210', '140', '0', '240', '290', '0', '0', '0', '70', '230', '15', '200', '190', '200', '250', '140', '230', '200', '200']\n",
            "fiber\n",
            "['10', '2', '9', '14', '1', '1.5', '1', '2', '4', '5', '0', '2', '0', '2', '0', '0', '1', '1', '0', '4', '1', '1', '2', '1', '1', '1', '3', '5', '5', '0', '0', '0', '3', '3', '3', '1', '1.5', '0', '1', '2', '0', '2', '0', '0', '3', '3', '3', '2', '0', '3', '3', '1.5', '6', '1', '0', '1', '2', '2.7', '5', '2.5', '2', '0', '0', '3', '4', '3', '1', '1', '3', '0', '4', '3', '0', '0', '3', '3', '1']\n",
            "carbo\n",
            "['5', '8', '7', '8', '14', '10.5', '11', '18', '15', '13', '12', '17', '13', '13', '12', '22', '21', '13', '12', '10', '21', '21', '11', '18', '11', '14', '14', '12', '14', '13', '11', '15', '15', '17', '13', '12', '11.5', '14', '17', '20', '21', '12', '12', '16', '16', '16', '17', '15', '15', '21', '18', '13.5', '11', '20', '13', '10', '14', '-1', '14', '10.5', '15', '23', '22', '16', '19', '20', '9', '16', '15', '21', '15', '16', '21', '13', '17', '17', '16']\n",
            "sugars\n",
            "['6', '8', '5', '0', '8', '10', '14', '8', '6', '5', '12', '1', '9', '7', '13', '3', '2', '12', '13', '7', '0', '3', '10', '5', '13', '11', '7', '10', '12', '12', '15', '9', '5', '3', '4', '11', '10', '11', '6', '9', '3', '6', '12', '3', '11', '11', '13', '6', '9', '7', '2', '10', '14', '3', '0', '0', '6', '-1', '12', '8', '6', '2', '3', '0', '0', '0', '15', '3', '5', '3', '14', '3', '3', '12', '3', '3', '8']\n",
            "potass\n",
            "['280', '135', '320', '330', '-1', '70', '30', '100', '125', '190', '35', '105', '45', '105', '55', '25', '35', '20', '65', '160', '-1', '30', '120', '80', '30', '25', '100', '200', '190', '25', '40', '45', '85', '90', '100', '45', '90', '35', '60', '95', '40', '95', '55', '95', '170', '170', '160', '90', '40', '130', '90', '120', '260', '45', '15', '50', '110', '110', '240', '140', '110', '30', '35', '95', '140', '120', '40', '55', '90', '35', '230', '110', '60', '25', '115', '110', '60']\n",
            "vitamins\n",
            "['25', '0', '25', '25', '25', '25', '25', '25', '25', '25', '25', '25', '25', '25', '25', '25', '25', '25', '25', '25', '0', '25', '25', '25', '25', '25', '25', '25', '25', '25', '25', '25', '25', '25', '25', '25', '25', '25', '100', '100', '25', '25', '25', '25', '25', '25', '25', '25', '25', '25', '25', '25', '25', '100', '0', '0', '25', '0', '25', '25', '25', '25', '25', '0', '0', '0', '25', '25', '25', '100', '100', '100', '25', '25', '25', '25', '25']\n",
            "shelf\n",
            "['3', '3', '3', '3', '3', '1', '2', '3', '1', '3', '2', '1', '2', '3', '2', '1', '1', '2', '2', '3', '2', '3', '3', '3', '2', '1', '2', '3', '3', '2', '1', '2', '3', '3', '3', '2', '1', '1', '3', '3', '2', '2', '2', '2', '3', '3', '3', '1', '2', '3', '3', '3', '3', '3', '3', '3', '3', '1', '2', '3', '3', '1', '1', '1', '1', '1', '2', '1', '2', '3', '3', '3', '3', '2', '1', '1', '1']\n",
            "weight\n",
            "['1', '1', '1', '1', '1', '1', '1', '1.33', '1', '1', '1', '1', '1', '1', '1', '1', '1', '1', '1', '1', '1', '1', '1', '1', '1', '1', '1', '1.25', '1.33', '1', '1', '1', '1', '1', '1', '1', '1', '1', '1', '1.3', '1', '1', '1', '1', '1', '1', '1.5', '1', '1', '1.33', '1', '1.25', '1.33', '1', '0.5', '0.5', '1', '1', '1.33', '1', '1', '1', '1', '0.83', '1', '1', '1', '1', '1', '1', '1.5', '1', '1', '1', '1', '1', '1']\n",
            "cups\n",
            "['0.33', '1', '0.33', '0.5', '0.75', '0.75', '1', '0.75', '0.67', '0.67', '0.75', '1.25', '0.75', '0.5', '1', '1', '1', '1', '1', '0.5', '1', '1', '0.75', '0.75', '1', '0.75', '0.8', '0.67', '0.67', '0.75', '0.88', '0.75', '0.88', '0.25', '0.33', '1', '0.75', '1.33', '1', '0.75', '1.5', '0.67', '1', '1', '1', '1', '0.67', '1', '0.67', '0.67', '1', '0.5', '0.67', '1', '1', '1', '0.5', '0.67', '0.75', '0.5', '0.5', '1.13', '1', '1', '0.67', '0.67', '0.75', '1', '1', '1', '1', '1', '0.75', '1', '0.67', '1', '0.75']\n",
            "rating\n",
            "['68.402973', '33.983679', '59.425505', '93.704912', '34.384843', '29.509541', '33.174094', '37.038562', '49.120253', '53.313813', '18.042851', '50.764999', '19.823573', '40.400208', '22.736446', '41.445019', '45.863324', '35.782791', '22.396513', '40.448772', '64.533816', '46.895644', '36.176196', '44.330856', '32.207582', '31.435973', '58.345141', '40.917047', '41.015492', '28.025765', '35.252444', '23.804043', '52.076897', '53.371007', '45.811716', '21.871292', '31.072217', '28.742414', '36.523683', '36.471512', '39.241114', '45.328074', '26.734515', '54.850917', '37.136863', '34.139765', '30.313351', '40.105965', '29.924285', '40.692320', '59.642837', '30.450843', '37.840594', '41.503540', '60.756112', '63.005645', '49.511874', '50.828392', '39.259197', '39.703400', '55.333142', '41.998933', '40.560159', '68.235885', '74.472949', '72.801787', '31.230054', '53.131324', '59.363993', '38.839746', '28.592785', '46.658844', '39.106174', '27.753301', '49.787445', '51.592193', '36.187559']\n"
          ],
          "name": "stdout"
        }
      ]
    },
    {
      "cell_type": "code",
      "metadata": {
        "colab": {
          "base_uri": "https://localhost:8080/"
        },
        "id": "4VE9K1ThzLRE",
        "outputId": "0fc6ca11-6c7a-4b5b-d24b-2f65ea6eea0a"
      },
      "source": [
        "!ls"
      ],
      "execution_count": 102,
      "outputs": [
        {
          "output_type": "stream",
          "text": [
            "'cereal (1).csv'   cereal.csv   Output.csv   sample_data\n"
          ],
          "name": "stdout"
        }
      ]
    },
    {
      "cell_type": "code",
      "metadata": {
        "id": "HoGrDWaIzMW5"
      },
      "source": [
        ""
      ],
      "execution_count": null,
      "outputs": []
    }
  ]
}